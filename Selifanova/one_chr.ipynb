{
 "cells": [
  {
   "cell_type": "code",
   "execution_count": 4,
   "metadata": {
    "collapsed": true
   },
   "outputs": [],
   "source": [
    "import numpy as np\n",
    "import pandas as pd"
   ]
  },
  {
   "cell_type": "code",
   "execution_count": 5,
   "metadata": {
    "collapsed": true
   },
   "outputs": [],
   "source": [
    "#creating files for tests\n",
    "GRID_file = \"K562_chr18_19.tab.txt\"\n",
    "chr_number = \"chr18\"\n",
    "\n",
    "df_chr = pd.read_csv(GRID_file, sep=\"\\t\", header=None)\n",
    "df_chr = df_chr[df_chr[4] == chr_number]"
   ]
  },
  {
   "cell_type": "code",
   "execution_count": 6,
   "metadata": {
    "collapsed": true
   },
   "outputs": [],
   "source": [
    "#creating chr_dataframe and preparation for the analysis\n",
    "\n",
    "def chr_extract(elem):\n",
    "    chr_num = elem[3:]\n",
    "    if chr_num == \"X\":\n",
    "        elem = 23\n",
    "    elif chr_num == \"Y\":\n",
    "        elem = 24\n",
    "    elif chr_num == \"M\":\n",
    "        elem = 25\n",
    "    else:\n",
    "        elem = int(chr_num)\n",
    "    return elem\n",
    "\n",
    "\n",
    "chr_extract = np.vectorize(chr_extract)\n",
    "df_chr[4] = df_chr[4].apply(chr_extract)\n",
    "\n",
    "del df_chr[0]\n",
    "del df_chr[1]\n",
    "del df_chr[2]\n",
    "del df_chr[3]\n",
    "del df_chr[6]\n",
    "\n",
    "#df_chr_analyse  = df_chr.values\n",
    "df_chr_start = df_chr[5].values\n",
    "df_chr_score = df_chr[7].values"
   ]
  },
  {
   "cell_type": "code",
   "execution_count": 10,
   "metadata": {
    "collapsed": true,
    "scrolled": true
   },
   "outputs": [],
   "source": [
    "#creating ench_dataframe and preparation for the analysis\n",
    "ench_file = \"ench18.bed\"\n",
    "df_ench = pd.read_csv(ench_file, sep=\"\\t\", header=None)\n",
    "\n",
    "window = 10000\n",
    "\n",
    "df_ench[0] = df_ench[0].apply(chr_extract)\n",
    "del df_ench[3]\n",
    "del df_ench[4]\n",
    "\n",
    "df_ench[3] = df_ench[2] - df_ench[1]\n",
    "df_ench[4] = df_ench[1] - (window/2)\n",
    "df_ench[5] = df_ench[1] + (window/2)\n",
    "\n",
    "df_ench_analyse = df_ench.values\n",
    "df_win_start = df_ench[4].values\n",
    "df_win_stop = df_ench[5].values"
   ]
  },
  {
   "cell_type": "code",
   "execution_count": null,
   "metadata": {
    "collapsed": true
   },
   "outputs": [],
   "source": []
  },
  {
   "cell_type": "code",
   "execution_count": 11,
   "metadata": {
    "collapsed": true
   },
   "outputs": [],
   "source": [
    "import collections\n",
    "\n",
    "def count_info(df_win_start, df_win_stop, df_chr_start, df_chr_score, bin_size):\n",
    "    \n",
    "    count_final = collections.Counter({0: 0})\n",
    "    \n",
    "    for line in range(len(df_win_start)):\n",
    "        c = collections.Counter()\n",
    "        win_start = df_win_start[line]\n",
    "        win_end = df_win_stop[line]\n",
    "        ind = np.logical_and((df_chr_start > win_start), (df_chr_start < win_end))\n",
    "        \n",
    "        read_db = df_chr_start[ind]\n",
    "        score_db = df_chr_score[ind]\n",
    "        read_db = read_db - win_start\n",
    "        \n",
    "        for i in range (len(read_db)):\n",
    "            a = read_db[i] // bin_size\n",
    "            c[a] += score_db[i]\n",
    "            count_final += c\n",
    "    return count_final"
   ]
  },
  {
   "cell_type": "code",
   "execution_count": 12,
   "metadata": {
    "collapsed": true
   },
   "outputs": [],
   "source": [
    "#building dataframe for experimental data\n",
    "bin_size = 100\n",
    "count_final_exp = count_info(df_win_start, df_win_stop, df_chr_start, df_chr_score, bin_size)\n",
    "\n",
    "bins = list(count_final_exp.keys())\n",
    "reads = list(count_final_exp.values())\n",
    "\n",
    "df_exp = pd.DataFrame({'bin_number': bins, 'reads_number': reads}).sort_values('bin_number').reset_index(drop=True)\n",
    "df_exp['reads_number'] = df_exp['reads_number'] / len(reads)"
   ]
  },
  {
   "cell_type": "code",
   "execution_count": 13,
   "metadata": {
    "collapsed": true
   },
   "outputs": [],
   "source": [
    "#building dataframe for randomization\n",
    "chr_length = 78000000\n",
    "ench_ran = np.linspace(0, chr_length, len(df_ench_analyse))\n",
    "\n",
    "ench_ran_start =  ench_ran - (window/2)\n",
    "ench_ran_stop =  ench_ran + (window/2)\n",
    "\n",
    "df_ench_ran = pd.DataFrame({'start': (ench_ran_start), 'stop':(ench_ran_stop) })\n",
    "df_win_start_ran = df_ench_ran['start'].values\n",
    "df_win_stop_ran =  df_ench_ran['stop'].values\n",
    "\n",
    "count_final_ran = count_info(df_win_start_ran, df_win_stop_ran, df_chr_start, df_chr_score, bin_size)\n",
    "\n",
    "bins_ran = list(count_final_ran.keys())\n",
    "reads_ran = list(count_final_ran.values())\n",
    "\n",
    "df_ran = pd.DataFrame({'bin_number': bins_ran, 'ran_reads_number': reads_ran}).sort_values('bin_number').reset_index(drop=True)\n",
    "df_ran['ran_reads_number'] = df_ran['ran_reads_number'] / len(reads)"
   ]
  },
  {
   "cell_type": "code",
   "execution_count": 14,
   "metadata": {
    "collapsed": true
   },
   "outputs": [],
   "source": [
    "#creating final df \n",
    "df_exp['ran_reads_number'] = df_ran['ran_reads_number']"
   ]
  },
  {
   "cell_type": "code",
   "execution_count": 15,
   "metadata": {
    "collapsed": true
   },
   "outputs": [],
   "source": [
    "#plot\n",
    "import seaborn\n",
    "import matplotlib.pyplot as plt\n",
    "\n",
    "f, ax = plt.subplots()\n",
    "\n",
    "ax.set_title(\"Enchancer distribution\", loc='center')\n",
    "\n",
    "df_exp_plot = df_exp.plot(x='bin_number', y='reads_number' ,figsize=(12,8), grid=True, label=\"Experimental data\", color=\"red\", ax=ax)\n",
    "df_ran_plot = df_exp.plot(x='bin_number', y='ran_reads_number' ,figsize=(12,8), grid=True, label=\"Randomized data\", color=\"blue\", ax=ax)\n",
    "#fig1 = df_exp_plot.get_figure()\n",
    "#fig2 = df_ran_plot.get_figure()\n",
    "\n",
    "f.savefig('pic')\n",
    "%matplotlib notebook\n"
   ]
  },
  {
   "cell_type": "code",
   "execution_count": null,
   "metadata": {
    "collapsed": true
   },
   "outputs": [],
   "source": []
  }
 ],
 "metadata": {
  "kernelspec": {
   "display_name": "Python 3",
   "language": "python",
   "name": "python3"
  },
  "language_info": {
   "codemirror_mode": {
    "name": "ipython",
    "version": 3
   },
   "file_extension": ".py",
   "mimetype": "text/x-python",
   "name": "python",
   "nbconvert_exporter": "python",
   "pygments_lexer": "ipython3",
   "version": "3.6.3"
  }
 },
 "nbformat": 4,
 "nbformat_minor": 2
}
